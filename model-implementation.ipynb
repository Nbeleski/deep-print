{
 "cells": [
  {
   "cell_type": "code",
   "execution_count": 1,
   "id": "ab7eec00",
   "metadata": {},
   "outputs": [],
   "source": [
    "from PIL import Image\n",
    "import numpy as np\n",
    "import torch\n",
    "\n",
    "from DeepPrint.model import DeepPrintNet"
   ]
  },
  {
   "cell_type": "code",
   "execution_count": 2,
   "id": "2d4d055c",
   "metadata": {},
   "outputs": [
    {
     "name": "stdout",
     "output_type": "stream",
     "text": [
      "Trainable Params: 67841713\n"
     ]
    }
   ],
   "source": [
    "model = DeepPrintNet(2500)\n",
    "\n",
    "model_parameters = filter(lambda p: p.requires_grad, model.parameters())\n",
    "params = sum([np.prod(p.size()) for p in model_parameters])\n",
    "print('Trainable Params:', int(params))"
   ]
  },
  {
   "cell_type": "code",
   "execution_count": 3,
   "id": "b340791e",
   "metadata": {},
   "outputs": [],
   "source": [
    "sample_input = torch.randn(1, 1, 448, 448)\n",
    "output = model(sample_input)"
   ]
  },
  {
   "cell_type": "code",
   "execution_count": null,
   "id": "78b8bebd",
   "metadata": {},
   "outputs": [
    {
     "name": "stdout",
     "output_type": "stream",
     "text": [
      "embedding shape: torch.Size([1, 192])\n",
      "map shape: torch.Size([1, 6, 192, 192])\n",
      "aligment shape: torch.Size([1, 3])\n",
      "aligned shape: torch.Size([1, 1, 448, 448])\n",
      "logits r1 shape: torch.Size([1, 2500])\n",
      "logits r1 shape: torch.Size([1, 2500])\n"
     ]
    }
   ],
   "source": [
    "embedding, map, aligment, aligned, R1, R2, logits_r1, logits_r2 = output.values()\n",
    "print('embedding shape:', embedding.shape)\n",
    "print('map shape:', map.shape)\n",
    "print('aligment shape:', aligment.shape)\n",
    "print('aligned shape:', aligned.shape)\n",
    "print('R1 shape:', R1.shape)\n",
    "print('R2 shape:', R2.shape)\n",
    "print('logits r1 shape:', logits_r1.shape)\n",
    "print('logits r1 shape:', logits_r2.shape)"
   ]
  },
  {
   "cell_type": "code",
   "execution_count": 5,
   "id": "c212e2a4",
   "metadata": {},
   "outputs": [],
   "source": [
    "create_model_image = False\n",
    "\n",
    "if create_model_image:\n",
    "    from torchviz import make_dot\n",
    "\n",
    "    sample_input = torch.randn(1, 1, 448, 448)\n",
    "    output = model(sample_input)\n",
    "    make_dot(output['embedding'], params=dict(model.named_parameters())).render(\"deepprint_graph\", format=\"png\")\n"
   ]
  }
 ],
 "metadata": {
  "kernelspec": {
   "display_name": "torch-env",
   "language": "python",
   "name": "python3"
  },
  "language_info": {
   "codemirror_mode": {
    "name": "ipython",
    "version": 3
   },
   "file_extension": ".py",
   "mimetype": "text/x-python",
   "name": "python",
   "nbconvert_exporter": "python",
   "pygments_lexer": "ipython3",
   "version": "3.12.3"
  }
 },
 "nbformat": 4,
 "nbformat_minor": 5
}
