{
 "cells": [
  {
   "cell_type": "code",
   "execution_count": 1,
   "id": "ab7eec00",
   "metadata": {},
   "outputs": [],
   "source": [
    "from PIL import Image\n",
    "import numpy as np\n",
    "import torch\n",
    "\n",
    "from DeepPrint.model import DeepPrintNet, MinutiaeMapHead"
   ]
  },
  {
   "cell_type": "code",
   "execution_count": 2,
   "id": "2d4d055c",
   "metadata": {},
   "outputs": [
    {
     "name": "stdout",
     "output_type": "stream",
     "text": [
      "Trainable Params: 67841713\n"
     ]
    }
   ],
   "source": [
    "model = DeepPrintNet(2500).to('cpu')\n",
    "\n",
    "model_parameters = filter(lambda p: p.requires_grad, model.parameters())\n",
    "params = sum([np.prod(p.size()) for p in model_parameters])\n",
    "print('Trainable Params:', int(params))"
   ]
  },
  {
   "cell_type": "code",
   "execution_count": 3,
   "id": "b340791e",
   "metadata": {},
   "outputs": [
    {
     "name": "stdout",
     "output_type": "stream",
     "text": [
      "map head output shape:  torch.Size([1, 6, 423, 423])\n"
     ]
    }
   ],
   "source": [
    "sample_input = torch.randn(1, 1, 448, 448)\n",
    "output = model(sample_input)\n",
    "\n"
   ]
  },
  {
   "cell_type": "code",
   "execution_count": 14,
   "id": "c4d5746a",
   "metadata": {},
   "outputs": [
    {
     "data": {
      "text/plain": [
       "torch.Size([1, 6, 192, 192])"
      ]
     },
     "execution_count": 14,
     "metadata": {},
     "output_type": "execute_result"
    }
   ],
   "source": [
    "import torch\n",
    "import torch.nn as nn\n",
    "\n",
    "def conv_bn_relu(in_channels, out_channels, kernel_size, stride=1, padding=0):\n",
    "    return nn.Sequential(\n",
    "        nn.Conv2d(in_channels, out_channels, kernel_size, stride, padding),\n",
    "        nn.BatchNorm2d(out_channels),\n",
    "        nn.ReLU(inplace=True)\n",
    "    )\n",
    "\n",
    "class NewMinutiaeMapHead(nn.Module):\n",
    "    def __init__(self, in_channels):\n",
    "        super().__init__()\n",
    "        self.net = nn.Sequential(\n",
    "            nn.ConvTranspose2d(in_channels, 384, 3, stride=2, padding=1, output_padding=1),   # 35 → 70\n",
    "            conv_bn_relu(384, 128, 7, 1, 1),  # 70×70\n",
    "            nn.ConvTranspose2d(128, 128, 3, stride=2, padding=1, output_padding=1),            # 70 → 140\n",
    "            conv_bn_relu(128, 32, 3, 1, 1),   # 140×140\n",
    "            nn.Conv2d(32, 6, 1)  \n",
    "        )\n",
    "\n",
    "    def forward(self, x):\n",
    "        x = self.net(x)\n",
    "        start = (x.shape[-2] - 192) // 2\n",
    "        end = start + 192\n",
    "        x = x[..., start:end, start:end]\n",
    "        return x\n",
    "\n",
    "maphead = NewMinutiaeMapHead(384).to('cpu')\n",
    "sample_input = torch.randn(1, 384, 53, 53)\n",
    "map_y = maphead(sample_input)\n",
    "map_y.shape"
   ]
  },
  {
   "cell_type": "code",
   "execution_count": 6,
   "id": "78b8bebd",
   "metadata": {},
   "outputs": [
    {
     "name": "stdout",
     "output_type": "stream",
     "text": [
      "embedding shape: torch.Size([1, 192])\n",
      "map shape: torch.Size([1, 6, 192, 192])\n",
      "aligment shape: torch.Size([1, 3])\n",
      "aligned shape: torch.Size([1, 1, 448, 448])\n",
      "R1 shape: torch.Size([1, 96])\n",
      "R2 shape: torch.Size([1, 96])\n",
      "logits r1 shape: torch.Size([1, 2500])\n",
      "logits r1 shape: torch.Size([1, 2500])\n"
     ]
    }
   ],
   "source": [
    "embedding, map, aligment, aligned, R1, R2, logits_r1, logits_r2 = output.values()\n",
    "print('embedding shape:', embedding.shape)\n",
    "print('map shape:', map.shape)\n",
    "print('aligment shape:', aligment.shape)\n",
    "print('aligned shape:', aligned.shape)\n",
    "print('R1 shape:', R1.shape)\n",
    "print('R2 shape:', R2.shape)\n",
    "print('logits r1 shape:', logits_r1.shape)\n",
    "print('logits r1 shape:', logits_r2.shape)"
   ]
  },
  {
   "cell_type": "code",
   "execution_count": 5,
   "id": "666948b6",
   "metadata": {},
   "outputs": [
    {
     "name": "stdout",
     "output_type": "stream",
     "text": [
      "stem output shape:  torch.Size([1, 384, 53, 53])\n",
      "map head output shape:  torch.Size([1, 6, 423, 423])\n",
      "stem output shape:  torch.Size([1, 384, 53, 53])\n",
      "map head output shape:  torch.Size([1, 6, 423, 423])\n",
      "stem output shape:  torch.Size([1, 384, 53, 53])\n",
      "map head output shape:  torch.Size([1, 6, 423, 423])\n",
      "stem output shape:  torch.Size([1, 384, 53, 53])\n",
      "map head output shape:  torch.Size([1, 6, 423, 423])\n",
      "stem output shape:  torch.Size([1, 384, 53, 53])\n",
      "map head output shape:  torch.Size([1, 6, 423, 423])\n",
      "stem output shape:  torch.Size([1, 384, 53, 53])\n",
      "map head output shape:  torch.Size([1, 6, 423, 423])\n",
      "stem output shape:  torch.Size([1, 384, 53, 53])\n",
      "map head output shape:  torch.Size([1, 6, 423, 423])\n",
      "stem output shape:  torch.Size([1, 384, 53, 53])\n",
      "map head output shape:  torch.Size([1, 6, 423, 423])\n",
      "stem output shape:  torch.Size([1, 384, 53, 53])\n",
      "map head output shape:  torch.Size([1, 6, 423, 423])\n",
      "stem output shape:  torch.Size([1, 384, 53, 53])\n",
      "map head output shape:  torch.Size([1, 6, 423, 423])\n",
      "stem output shape:  torch.Size([1, 384, 53, 53])\n",
      "map head output shape:  torch.Size([1, 6, 423, 423])\n",
      "stem output shape:  torch.Size([1, 384, 53, 53])\n",
      "map head output shape:  torch.Size([1, 6, 423, 423])\n",
      "stem output shape:  torch.Size([1, 384, 53, 53])\n",
      "map head output shape:  torch.Size([1, 6, 423, 423])\n",
      "stem output shape:  torch.Size([1, 384, 53, 53])\n",
      "map head output shape:  torch.Size([1, 6, 423, 423])\n",
      "stem output shape:  torch.Size([1, 384, 53, 53])\n",
      "map head output shape:  torch.Size([1, 6, 423, 423])\n",
      "stem output shape:  torch.Size([1, 384, 53, 53])\n",
      "map head output shape:  torch.Size([1, 6, 423, 423])\n",
      "stem output shape:  torch.Size([1, 384, 53, 53])\n",
      "map head output shape:  torch.Size([1, 6, 423, 423])\n",
      "stem output shape:  torch.Size([1, 384, 53, 53])\n",
      "map head output shape:  torch.Size([1, 6, 423, 423])\n",
      "stem output shape:  torch.Size([1, 384, 53, 53])\n",
      "map head output shape:  torch.Size([1, 6, 423, 423])\n",
      "stem output shape:  torch.Size([1, 384, 53, 53])\n",
      "map head output shape:  torch.Size([1, 6, 423, 423])\n",
      "stem output shape:  torch.Size([1, 384, 53, 53])\n",
      "map head output shape:  torch.Size([1, 6, 423, 423])\n",
      "stem output shape:  torch.Size([1, 384, 53, 53])\n",
      "map head output shape:  torch.Size([1, 6, 423, 423])\n",
      "stem output shape:  torch.Size([1, 384, 53, 53])\n",
      "map head output shape:  torch.Size([1, 6, 423, 423])\n",
      "Average inference time over 20 runs (CPU): 0.3882 seconds\n",
      "Approximate FPS: 2.58\n"
     ]
    }
   ],
   "source": [
    "import time\n",
    "\n",
    "model.eval()\n",
    "model.to('cpu')\n",
    "\n",
    "# Create dummy input and add batch dimension\n",
    "input_tensor = torch.rand((1, 1, 448, 448)).to('cpu')\n",
    "\n",
    "# Warm-up runs\n",
    "for _ in range(3):\n",
    "    with torch.no_grad():\n",
    "        _ = model(input_tensor)\n",
    "\n",
    "# Timed runs\n",
    "n_runs = 20\n",
    "times = []\n",
    "\n",
    "for _ in range(n_runs):\n",
    "    start_time = time.perf_counter()\n",
    "    with torch.no_grad():\n",
    "        _ = model(input_tensor)\n",
    "    end_time = time.perf_counter()\n",
    "    times.append(end_time - start_time)\n",
    "\n",
    "avg_time = sum(times) / len(times)\n",
    "fps = 1 / avg_time\n",
    "\n",
    "print(f\"Average inference time over {n_runs} runs (CPU): {avg_time:.4f} seconds\")\n",
    "print(f\"Approximate FPS: {fps:.2f}\")"
   ]
  },
  {
   "cell_type": "code",
   "execution_count": null,
   "id": "8d14cd3e",
   "metadata": {},
   "outputs": [],
   "source": []
  },
  {
   "cell_type": "code",
   "execution_count": null,
   "id": "4adcb8f9",
   "metadata": {},
   "outputs": [],
   "source": []
  },
  {
   "cell_type": "code",
   "execution_count": 6,
   "id": "c212e2a4",
   "metadata": {},
   "outputs": [],
   "source": [
    "create_model_image = False\n",
    "\n",
    "if create_model_image:\n",
    "    from torchviz import make_dot\n",
    "\n",
    "    sample_input = torch.randn(1, 1, 448, 448)\n",
    "    output = model(sample_input)\n",
    "    make_dot(output['embedding'], params=dict(model.named_parameters())).render(\"deepprint_graph\", format=\"png\")\n"
   ]
  }
 ],
 "metadata": {
  "kernelspec": {
   "display_name": "torch-env",
   "language": "python",
   "name": "python3"
  },
  "language_info": {
   "codemirror_mode": {
    "name": "ipython",
    "version": 3
   },
   "file_extension": ".py",
   "mimetype": "text/x-python",
   "name": "python",
   "nbconvert_exporter": "python",
   "pygments_lexer": "ipython3",
   "version": "3.12.3"
  }
 },
 "nbformat": 4,
 "nbformat_minor": 5
}
